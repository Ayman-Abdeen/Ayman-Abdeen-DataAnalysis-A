{
  "nbformat": 4,
  "nbformat_minor": 0,
  "metadata": {
    "colab": {
      "provenance": [],
      "authorship_tag": "ABX9TyOKF7syxr/0wKl+acu1eo0D",
      "include_colab_link": true
    },
    "kernelspec": {
      "name": "python3",
      "display_name": "Python 3"
    },
    "language_info": {
      "name": "python"
    }
  },
  "cells": [
    {
      "cell_type": "markdown",
      "metadata": {
        "id": "view-in-github",
        "colab_type": "text"
      },
      "source": [
        "<a href=\"https://colab.research.google.com/github/Ayman-Abdeen/DataAnalysis-A/blob/main/Regression_Ensemble_Methods_Bagging%2CBoosting%2CStacking.ipynb\" target=\"_parent\"><img src=\"https://colab.research.google.com/assets/colab-badge.svg\" alt=\"Open In Colab\"/></a>"
      ]
    },
    {
      "cell_type": "code",
      "execution_count": 2,
      "metadata": {
        "colab": {
          "base_uri": "https://localhost:8080/"
        },
        "id": "dhXYLd8RaXXT",
        "outputId": "cb790fbd-73f7-45a3-b840-c587d20610ae"
      },
      "outputs": [
        {
          "output_type": "stream",
          "name": "stdout",
          "text": [
            "SalePrice      5891\n",
            "BuildingAge    5891\n",
            "Area           5891\n",
            "Floor          5891\n",
            "Location       5891\n",
            "dtype: int64\n"
          ]
        }
      ],
      "source": [
        "import pandas as pd\n",
        "df = pd.read_excel(\"Real_Estate_data.xlsx\",'Real_Estate_data')\n",
        "print (df.count())\n",
        "SVMdf = df.head(2000)"
      ]
    },
    {
      "cell_type": "code",
      "source": [
        "df.head()"
      ],
      "metadata": {
        "colab": {
          "base_uri": "https://localhost:8080/",
          "height": 206
        },
        "id": "bvEMlwR4jKKd",
        "outputId": "e6639694-c2f8-4ac9-8918-64e7aa2c43fb"
      },
      "execution_count": 8,
      "outputs": [
        {
          "output_type": "execute_result",
          "data": {
            "text/plain": [
              "   SalePrice  BuildingAge  Area  Floor  Location\n",
              "0     141592         2006   814      3         1\n",
              "1      51327         1985   587      8         1\n",
              "2      48672         1985   587      6         1\n",
              "3     380530         2006  2056      8         0\n",
              "4     221238         1993  1761      3         0"
            ],
            "text/html": [
              "\n",
              "  <div id=\"df-874f8718-56c2-4702-b1dc-4c2cc059bd6b\">\n",
              "    <div class=\"colab-df-container\">\n",
              "      <div>\n",
              "<style scoped>\n",
              "    .dataframe tbody tr th:only-of-type {\n",
              "        vertical-align: middle;\n",
              "    }\n",
              "\n",
              "    .dataframe tbody tr th {\n",
              "        vertical-align: top;\n",
              "    }\n",
              "\n",
              "    .dataframe thead th {\n",
              "        text-align: right;\n",
              "    }\n",
              "</style>\n",
              "<table border=\"1\" class=\"dataframe\">\n",
              "  <thead>\n",
              "    <tr style=\"text-align: right;\">\n",
              "      <th></th>\n",
              "      <th>SalePrice</th>\n",
              "      <th>BuildingAge</th>\n",
              "      <th>Area</th>\n",
              "      <th>Floor</th>\n",
              "      <th>Location</th>\n",
              "    </tr>\n",
              "  </thead>\n",
              "  <tbody>\n",
              "    <tr>\n",
              "      <th>0</th>\n",
              "      <td>141592</td>\n",
              "      <td>2006</td>\n",
              "      <td>814</td>\n",
              "      <td>3</td>\n",
              "      <td>1</td>\n",
              "    </tr>\n",
              "    <tr>\n",
              "      <th>1</th>\n",
              "      <td>51327</td>\n",
              "      <td>1985</td>\n",
              "      <td>587</td>\n",
              "      <td>8</td>\n",
              "      <td>1</td>\n",
              "    </tr>\n",
              "    <tr>\n",
              "      <th>2</th>\n",
              "      <td>48672</td>\n",
              "      <td>1985</td>\n",
              "      <td>587</td>\n",
              "      <td>6</td>\n",
              "      <td>1</td>\n",
              "    </tr>\n",
              "    <tr>\n",
              "      <th>3</th>\n",
              "      <td>380530</td>\n",
              "      <td>2006</td>\n",
              "      <td>2056</td>\n",
              "      <td>8</td>\n",
              "      <td>0</td>\n",
              "    </tr>\n",
              "    <tr>\n",
              "      <th>4</th>\n",
              "      <td>221238</td>\n",
              "      <td>1993</td>\n",
              "      <td>1761</td>\n",
              "      <td>3</td>\n",
              "      <td>0</td>\n",
              "    </tr>\n",
              "  </tbody>\n",
              "</table>\n",
              "</div>\n",
              "      <button class=\"colab-df-convert\" onclick=\"convertToInteractive('df-874f8718-56c2-4702-b1dc-4c2cc059bd6b')\"\n",
              "              title=\"Convert this dataframe to an interactive table.\"\n",
              "              style=\"display:none;\">\n",
              "        \n",
              "  <svg xmlns=\"http://www.w3.org/2000/svg\" height=\"24px\"viewBox=\"0 0 24 24\"\n",
              "       width=\"24px\">\n",
              "    <path d=\"M0 0h24v24H0V0z\" fill=\"none\"/>\n",
              "    <path d=\"M18.56 5.44l.94 2.06.94-2.06 2.06-.94-2.06-.94-.94-2.06-.94 2.06-2.06.94zm-11 1L8.5 8.5l.94-2.06 2.06-.94-2.06-.94L8.5 2.5l-.94 2.06-2.06.94zm10 10l.94 2.06.94-2.06 2.06-.94-2.06-.94-.94-2.06-.94 2.06-2.06.94z\"/><path d=\"M17.41 7.96l-1.37-1.37c-.4-.4-.92-.59-1.43-.59-.52 0-1.04.2-1.43.59L10.3 9.45l-7.72 7.72c-.78.78-.78 2.05 0 2.83L4 21.41c.39.39.9.59 1.41.59.51 0 1.02-.2 1.41-.59l7.78-7.78 2.81-2.81c.8-.78.8-2.07 0-2.86zM5.41 20L4 18.59l7.72-7.72 1.47 1.35L5.41 20z\"/>\n",
              "  </svg>\n",
              "      </button>\n",
              "      \n",
              "  <style>\n",
              "    .colab-df-container {\n",
              "      display:flex;\n",
              "      flex-wrap:wrap;\n",
              "      gap: 12px;\n",
              "    }\n",
              "\n",
              "    .colab-df-convert {\n",
              "      background-color: #E8F0FE;\n",
              "      border: none;\n",
              "      border-radius: 50%;\n",
              "      cursor: pointer;\n",
              "      display: none;\n",
              "      fill: #1967D2;\n",
              "      height: 32px;\n",
              "      padding: 0 0 0 0;\n",
              "      width: 32px;\n",
              "    }\n",
              "\n",
              "    .colab-df-convert:hover {\n",
              "      background-color: #E2EBFA;\n",
              "      box-shadow: 0px 1px 2px rgba(60, 64, 67, 0.3), 0px 1px 3px 1px rgba(60, 64, 67, 0.15);\n",
              "      fill: #174EA6;\n",
              "    }\n",
              "\n",
              "    [theme=dark] .colab-df-convert {\n",
              "      background-color: #3B4455;\n",
              "      fill: #D2E3FC;\n",
              "    }\n",
              "\n",
              "    [theme=dark] .colab-df-convert:hover {\n",
              "      background-color: #434B5C;\n",
              "      box-shadow: 0px 1px 3px 1px rgba(0, 0, 0, 0.15);\n",
              "      filter: drop-shadow(0px 1px 2px rgba(0, 0, 0, 0.3));\n",
              "      fill: #FFFFFF;\n",
              "    }\n",
              "  </style>\n",
              "\n",
              "      <script>\n",
              "        const buttonEl =\n",
              "          document.querySelector('#df-874f8718-56c2-4702-b1dc-4c2cc059bd6b button.colab-df-convert');\n",
              "        buttonEl.style.display =\n",
              "          google.colab.kernel.accessAllowed ? 'block' : 'none';\n",
              "\n",
              "        async function convertToInteractive(key) {\n",
              "          const element = document.querySelector('#df-874f8718-56c2-4702-b1dc-4c2cc059bd6b');\n",
              "          const dataTable =\n",
              "            await google.colab.kernel.invokeFunction('convertToInteractive',\n",
              "                                                     [key], {});\n",
              "          if (!dataTable) return;\n",
              "\n",
              "          const docLinkHtml = 'Like what you see? Visit the ' +\n",
              "            '<a target=\"_blank\" href=https://colab.research.google.com/notebooks/data_table.ipynb>data table notebook</a>'\n",
              "            + ' to learn more about interactive tables.';\n",
              "          element.innerHTML = '';\n",
              "          dataTable['output_type'] = 'display_data';\n",
              "          await google.colab.output.renderOutput(dataTable, element);\n",
              "          const docLink = document.createElement('div');\n",
              "          docLink.innerHTML = docLinkHtml;\n",
              "          element.appendChild(docLink);\n",
              "        }\n",
              "      </script>\n",
              "    </div>\n",
              "  </div>\n",
              "  "
            ]
          },
          "metadata": {},
          "execution_count": 8
        }
      ]
    },
    {
      "cell_type": "code",
      "source": [
        "df.info()"
      ],
      "metadata": {
        "colab": {
          "base_uri": "https://localhost:8080/"
        },
        "id": "_Pi1-Rf-jWCi",
        "outputId": "db5e1fc9-0416-47aa-8ed4-041d1dd7d2ca"
      },
      "execution_count": 11,
      "outputs": [
        {
          "output_type": "stream",
          "name": "stdout",
          "text": [
            "<class 'pandas.core.frame.DataFrame'>\n",
            "RangeIndex: 5891 entries, 0 to 5890\n",
            "Data columns (total 5 columns):\n",
            " #   Column       Non-Null Count  Dtype\n",
            "---  ------       --------------  -----\n",
            " 0   SalePrice    5891 non-null   int64\n",
            " 1   BuildingAge  5891 non-null   int64\n",
            " 2   Area         5891 non-null   int64\n",
            " 3   Floor        5891 non-null   int64\n",
            " 4   Location     5891 non-null   int64\n",
            "dtypes: int64(5)\n",
            "memory usage: 230.2 KB\n"
          ]
        }
      ]
    },
    {
      "cell_type": "code",
      "source": [
        "df.describe()"
      ],
      "metadata": {
        "colab": {
          "base_uri": "https://localhost:8080/",
          "height": 300
        },
        "id": "OjpnGCtLjsRD",
        "outputId": "a0b14840-29c2-47cd-d712-110d82f44fc5"
      },
      "execution_count": 12,
      "outputs": [
        {
          "output_type": "execute_result",
          "data": {
            "text/plain": [
              "           SalePrice  BuildingAge         Area        Floor     Location\n",
              "count    5891.000000  5891.000000  5891.000000  5891.000000  5891.000000\n",
              "mean   221218.112545  2002.967408   955.569173    12.026311     1.111866\n",
              "std    106384.186446     8.811782   382.464050     7.548743     0.351393\n",
              "min     32743.000000  1978.000000   135.000000     1.000000     0.000000\n",
              "25%    144247.000000  1993.000000   644.000000     6.000000     1.000000\n",
              "50%    207964.000000  2006.000000   910.000000    11.000000     1.000000\n",
              "75%    291150.000000  2008.000000  1149.000000    17.000000     1.000000\n",
              "max    585840.000000  2015.000000  2337.000000    43.000000     2.000000"
            ],
            "text/html": [
              "\n",
              "  <div id=\"df-070cff04-c564-4727-b262-6eec0cde2010\">\n",
              "    <div class=\"colab-df-container\">\n",
              "      <div>\n",
              "<style scoped>\n",
              "    .dataframe tbody tr th:only-of-type {\n",
              "        vertical-align: middle;\n",
              "    }\n",
              "\n",
              "    .dataframe tbody tr th {\n",
              "        vertical-align: top;\n",
              "    }\n",
              "\n",
              "    .dataframe thead th {\n",
              "        text-align: right;\n",
              "    }\n",
              "</style>\n",
              "<table border=\"1\" class=\"dataframe\">\n",
              "  <thead>\n",
              "    <tr style=\"text-align: right;\">\n",
              "      <th></th>\n",
              "      <th>SalePrice</th>\n",
              "      <th>BuildingAge</th>\n",
              "      <th>Area</th>\n",
              "      <th>Floor</th>\n",
              "      <th>Location</th>\n",
              "    </tr>\n",
              "  </thead>\n",
              "  <tbody>\n",
              "    <tr>\n",
              "      <th>count</th>\n",
              "      <td>5891.000000</td>\n",
              "      <td>5891.000000</td>\n",
              "      <td>5891.000000</td>\n",
              "      <td>5891.000000</td>\n",
              "      <td>5891.000000</td>\n",
              "    </tr>\n",
              "    <tr>\n",
              "      <th>mean</th>\n",
              "      <td>221218.112545</td>\n",
              "      <td>2002.967408</td>\n",
              "      <td>955.569173</td>\n",
              "      <td>12.026311</td>\n",
              "      <td>1.111866</td>\n",
              "    </tr>\n",
              "    <tr>\n",
              "      <th>std</th>\n",
              "      <td>106384.186446</td>\n",
              "      <td>8.811782</td>\n",
              "      <td>382.464050</td>\n",
              "      <td>7.548743</td>\n",
              "      <td>0.351393</td>\n",
              "    </tr>\n",
              "    <tr>\n",
              "      <th>min</th>\n",
              "      <td>32743.000000</td>\n",
              "      <td>1978.000000</td>\n",
              "      <td>135.000000</td>\n",
              "      <td>1.000000</td>\n",
              "      <td>0.000000</td>\n",
              "    </tr>\n",
              "    <tr>\n",
              "      <th>25%</th>\n",
              "      <td>144247.000000</td>\n",
              "      <td>1993.000000</td>\n",
              "      <td>644.000000</td>\n",
              "      <td>6.000000</td>\n",
              "      <td>1.000000</td>\n",
              "    </tr>\n",
              "    <tr>\n",
              "      <th>50%</th>\n",
              "      <td>207964.000000</td>\n",
              "      <td>2006.000000</td>\n",
              "      <td>910.000000</td>\n",
              "      <td>11.000000</td>\n",
              "      <td>1.000000</td>\n",
              "    </tr>\n",
              "    <tr>\n",
              "      <th>75%</th>\n",
              "      <td>291150.000000</td>\n",
              "      <td>2008.000000</td>\n",
              "      <td>1149.000000</td>\n",
              "      <td>17.000000</td>\n",
              "      <td>1.000000</td>\n",
              "    </tr>\n",
              "    <tr>\n",
              "      <th>max</th>\n",
              "      <td>585840.000000</td>\n",
              "      <td>2015.000000</td>\n",
              "      <td>2337.000000</td>\n",
              "      <td>43.000000</td>\n",
              "      <td>2.000000</td>\n",
              "    </tr>\n",
              "  </tbody>\n",
              "</table>\n",
              "</div>\n",
              "      <button class=\"colab-df-convert\" onclick=\"convertToInteractive('df-070cff04-c564-4727-b262-6eec0cde2010')\"\n",
              "              title=\"Convert this dataframe to an interactive table.\"\n",
              "              style=\"display:none;\">\n",
              "        \n",
              "  <svg xmlns=\"http://www.w3.org/2000/svg\" height=\"24px\"viewBox=\"0 0 24 24\"\n",
              "       width=\"24px\">\n",
              "    <path d=\"M0 0h24v24H0V0z\" fill=\"none\"/>\n",
              "    <path d=\"M18.56 5.44l.94 2.06.94-2.06 2.06-.94-2.06-.94-.94-2.06-.94 2.06-2.06.94zm-11 1L8.5 8.5l.94-2.06 2.06-.94-2.06-.94L8.5 2.5l-.94 2.06-2.06.94zm10 10l.94 2.06.94-2.06 2.06-.94-2.06-.94-.94-2.06-.94 2.06-2.06.94z\"/><path d=\"M17.41 7.96l-1.37-1.37c-.4-.4-.92-.59-1.43-.59-.52 0-1.04.2-1.43.59L10.3 9.45l-7.72 7.72c-.78.78-.78 2.05 0 2.83L4 21.41c.39.39.9.59 1.41.59.51 0 1.02-.2 1.41-.59l7.78-7.78 2.81-2.81c.8-.78.8-2.07 0-2.86zM5.41 20L4 18.59l7.72-7.72 1.47 1.35L5.41 20z\"/>\n",
              "  </svg>\n",
              "      </button>\n",
              "      \n",
              "  <style>\n",
              "    .colab-df-container {\n",
              "      display:flex;\n",
              "      flex-wrap:wrap;\n",
              "      gap: 12px;\n",
              "    }\n",
              "\n",
              "    .colab-df-convert {\n",
              "      background-color: #E8F0FE;\n",
              "      border: none;\n",
              "      border-radius: 50%;\n",
              "      cursor: pointer;\n",
              "      display: none;\n",
              "      fill: #1967D2;\n",
              "      height: 32px;\n",
              "      padding: 0 0 0 0;\n",
              "      width: 32px;\n",
              "    }\n",
              "\n",
              "    .colab-df-convert:hover {\n",
              "      background-color: #E2EBFA;\n",
              "      box-shadow: 0px 1px 2px rgba(60, 64, 67, 0.3), 0px 1px 3px 1px rgba(60, 64, 67, 0.15);\n",
              "      fill: #174EA6;\n",
              "    }\n",
              "\n",
              "    [theme=dark] .colab-df-convert {\n",
              "      background-color: #3B4455;\n",
              "      fill: #D2E3FC;\n",
              "    }\n",
              "\n",
              "    [theme=dark] .colab-df-convert:hover {\n",
              "      background-color: #434B5C;\n",
              "      box-shadow: 0px 1px 3px 1px rgba(0, 0, 0, 0.15);\n",
              "      filter: drop-shadow(0px 1px 2px rgba(0, 0, 0, 0.3));\n",
              "      fill: #FFFFFF;\n",
              "    }\n",
              "  </style>\n",
              "\n",
              "      <script>\n",
              "        const buttonEl =\n",
              "          document.querySelector('#df-070cff04-c564-4727-b262-6eec0cde2010 button.colab-df-convert');\n",
              "        buttonEl.style.display =\n",
              "          google.colab.kernel.accessAllowed ? 'block' : 'none';\n",
              "\n",
              "        async function convertToInteractive(key) {\n",
              "          const element = document.querySelector('#df-070cff04-c564-4727-b262-6eec0cde2010');\n",
              "          const dataTable =\n",
              "            await google.colab.kernel.invokeFunction('convertToInteractive',\n",
              "                                                     [key], {});\n",
              "          if (!dataTable) return;\n",
              "\n",
              "          const docLinkHtml = 'Like what you see? Visit the ' +\n",
              "            '<a target=\"_blank\" href=https://colab.research.google.com/notebooks/data_table.ipynb>data table notebook</a>'\n",
              "            + ' to learn more about interactive tables.';\n",
              "          element.innerHTML = '';\n",
              "          dataTable['output_type'] = 'display_data';\n",
              "          await google.colab.output.renderOutput(dataTable, element);\n",
              "          const docLink = document.createElement('div');\n",
              "          docLink.innerHTML = docLinkHtml;\n",
              "          element.appendChild(docLink);\n",
              "        }\n",
              "      </script>\n",
              "    </div>\n",
              "  </div>\n",
              "  "
            ]
          },
          "metadata": {},
          "execution_count": 12
        }
      ]
    },
    {
      "cell_type": "code",
      "source": [
        "df.corr() #get the correlation matrix to see to which level the dataset attributes are correlated, that will affect selecting attributes in building the forecasting model\n",
        "# the matrix inform us that there is a strong relationship between pricem age, area, and floor\n",
        "#df.corr()['SalePrice'] #to get correlation for specific field with other atributes"
      ],
      "metadata": {
        "colab": {
          "base_uri": "https://localhost:8080/",
          "height": 206
        },
        "id": "3sHqAsDUcyhm",
        "outputId": "5c14323f-48a9-43e7-8633-b8b19a458fa6"
      },
      "execution_count": 3,
      "outputs": [
        {
          "output_type": "execute_result",
          "data": {
            "text/plain": [
              "             SalePrice  BuildingAge      Area     Floor  Location\n",
              "SalePrice     1.000000     0.447875  0.697199  0.336729  0.010615\n",
              "BuildingAge   0.447875     1.000000  0.021282  0.260568  0.005180\n",
              "Area          0.697199     0.021282  1.000000  0.179491  0.017981\n",
              "Floor         0.336729     0.260568  0.179491  1.000000  0.005355\n",
              "Location      0.010615     0.005180  0.017981  0.005355  1.000000"
            ],
            "text/html": [
              "\n",
              "  <div id=\"df-40861be8-fc4f-4529-bd23-2e96dcf2d9c4\">\n",
              "    <div class=\"colab-df-container\">\n",
              "      <div>\n",
              "<style scoped>\n",
              "    .dataframe tbody tr th:only-of-type {\n",
              "        vertical-align: middle;\n",
              "    }\n",
              "\n",
              "    .dataframe tbody tr th {\n",
              "        vertical-align: top;\n",
              "    }\n",
              "\n",
              "    .dataframe thead th {\n",
              "        text-align: right;\n",
              "    }\n",
              "</style>\n",
              "<table border=\"1\" class=\"dataframe\">\n",
              "  <thead>\n",
              "    <tr style=\"text-align: right;\">\n",
              "      <th></th>\n",
              "      <th>SalePrice</th>\n",
              "      <th>BuildingAge</th>\n",
              "      <th>Area</th>\n",
              "      <th>Floor</th>\n",
              "      <th>Location</th>\n",
              "    </tr>\n",
              "  </thead>\n",
              "  <tbody>\n",
              "    <tr>\n",
              "      <th>SalePrice</th>\n",
              "      <td>1.000000</td>\n",
              "      <td>0.447875</td>\n",
              "      <td>0.697199</td>\n",
              "      <td>0.336729</td>\n",
              "      <td>0.010615</td>\n",
              "    </tr>\n",
              "    <tr>\n",
              "      <th>BuildingAge</th>\n",
              "      <td>0.447875</td>\n",
              "      <td>1.000000</td>\n",
              "      <td>0.021282</td>\n",
              "      <td>0.260568</td>\n",
              "      <td>0.005180</td>\n",
              "    </tr>\n",
              "    <tr>\n",
              "      <th>Area</th>\n",
              "      <td>0.697199</td>\n",
              "      <td>0.021282</td>\n",
              "      <td>1.000000</td>\n",
              "      <td>0.179491</td>\n",
              "      <td>0.017981</td>\n",
              "    </tr>\n",
              "    <tr>\n",
              "      <th>Floor</th>\n",
              "      <td>0.336729</td>\n",
              "      <td>0.260568</td>\n",
              "      <td>0.179491</td>\n",
              "      <td>1.000000</td>\n",
              "      <td>0.005355</td>\n",
              "    </tr>\n",
              "    <tr>\n",
              "      <th>Location</th>\n",
              "      <td>0.010615</td>\n",
              "      <td>0.005180</td>\n",
              "      <td>0.017981</td>\n",
              "      <td>0.005355</td>\n",
              "      <td>1.000000</td>\n",
              "    </tr>\n",
              "  </tbody>\n",
              "</table>\n",
              "</div>\n",
              "      <button class=\"colab-df-convert\" onclick=\"convertToInteractive('df-40861be8-fc4f-4529-bd23-2e96dcf2d9c4')\"\n",
              "              title=\"Convert this dataframe to an interactive table.\"\n",
              "              style=\"display:none;\">\n",
              "        \n",
              "  <svg xmlns=\"http://www.w3.org/2000/svg\" height=\"24px\"viewBox=\"0 0 24 24\"\n",
              "       width=\"24px\">\n",
              "    <path d=\"M0 0h24v24H0V0z\" fill=\"none\"/>\n",
              "    <path d=\"M18.56 5.44l.94 2.06.94-2.06 2.06-.94-2.06-.94-.94-2.06-.94 2.06-2.06.94zm-11 1L8.5 8.5l.94-2.06 2.06-.94-2.06-.94L8.5 2.5l-.94 2.06-2.06.94zm10 10l.94 2.06.94-2.06 2.06-.94-2.06-.94-.94-2.06-.94 2.06-2.06.94z\"/><path d=\"M17.41 7.96l-1.37-1.37c-.4-.4-.92-.59-1.43-.59-.52 0-1.04.2-1.43.59L10.3 9.45l-7.72 7.72c-.78.78-.78 2.05 0 2.83L4 21.41c.39.39.9.59 1.41.59.51 0 1.02-.2 1.41-.59l7.78-7.78 2.81-2.81c.8-.78.8-2.07 0-2.86zM5.41 20L4 18.59l7.72-7.72 1.47 1.35L5.41 20z\"/>\n",
              "  </svg>\n",
              "      </button>\n",
              "      \n",
              "  <style>\n",
              "    .colab-df-container {\n",
              "      display:flex;\n",
              "      flex-wrap:wrap;\n",
              "      gap: 12px;\n",
              "    }\n",
              "\n",
              "    .colab-df-convert {\n",
              "      background-color: #E8F0FE;\n",
              "      border: none;\n",
              "      border-radius: 50%;\n",
              "      cursor: pointer;\n",
              "      display: none;\n",
              "      fill: #1967D2;\n",
              "      height: 32px;\n",
              "      padding: 0 0 0 0;\n",
              "      width: 32px;\n",
              "    }\n",
              "\n",
              "    .colab-df-convert:hover {\n",
              "      background-color: #E2EBFA;\n",
              "      box-shadow: 0px 1px 2px rgba(60, 64, 67, 0.3), 0px 1px 3px 1px rgba(60, 64, 67, 0.15);\n",
              "      fill: #174EA6;\n",
              "    }\n",
              "\n",
              "    [theme=dark] .colab-df-convert {\n",
              "      background-color: #3B4455;\n",
              "      fill: #D2E3FC;\n",
              "    }\n",
              "\n",
              "    [theme=dark] .colab-df-convert:hover {\n",
              "      background-color: #434B5C;\n",
              "      box-shadow: 0px 1px 3px 1px rgba(0, 0, 0, 0.15);\n",
              "      filter: drop-shadow(0px 1px 2px rgba(0, 0, 0, 0.3));\n",
              "      fill: #FFFFFF;\n",
              "    }\n",
              "  </style>\n",
              "\n",
              "      <script>\n",
              "        const buttonEl =\n",
              "          document.querySelector('#df-40861be8-fc4f-4529-bd23-2e96dcf2d9c4 button.colab-df-convert');\n",
              "        buttonEl.style.display =\n",
              "          google.colab.kernel.accessAllowed ? 'block' : 'none';\n",
              "\n",
              "        async function convertToInteractive(key) {\n",
              "          const element = document.querySelector('#df-40861be8-fc4f-4529-bd23-2e96dcf2d9c4');\n",
              "          const dataTable =\n",
              "            await google.colab.kernel.invokeFunction('convertToInteractive',\n",
              "                                                     [key], {});\n",
              "          if (!dataTable) return;\n",
              "\n",
              "          const docLinkHtml = 'Like what you see? Visit the ' +\n",
              "            '<a target=\"_blank\" href=https://colab.research.google.com/notebooks/data_table.ipynb>data table notebook</a>'\n",
              "            + ' to learn more about interactive tables.';\n",
              "          element.innerHTML = '';\n",
              "          dataTable['output_type'] = 'display_data';\n",
              "          await google.colab.output.renderOutput(dataTable, element);\n",
              "          const docLink = document.createElement('div');\n",
              "          docLink.innerHTML = docLinkHtml;\n",
              "          element.appendChild(docLink);\n",
              "        }\n",
              "      </script>\n",
              "    </div>\n",
              "  </div>\n",
              "  "
            ]
          },
          "metadata": {},
          "execution_count": 3
        }
      ]
    },
    {
      "cell_type": "code",
      "source": [
        "from sklearn.linear_model import LinearRegression\n",
        "regressor = LinearRegression()\n",
        "#selection to attributes where according to the correlation\n",
        "Xtest = df[['BuildingAge','Area','Floor','Location']] \n",
        "X = df[['BuildingAge','Area','Floor']]\n",
        "y = df[['SalePrice']]\n",
        "\n",
        "from sklearn.feature_selection import RFE\n",
        "\n",
        "rfe = RFE(regressor,n_features_to_select=3,step=43) # you can tell the eliminator how many features you need\n",
        "fit = rfe.fit(Xtest, y) # let him calculate it free way\n",
        "print(\"Num Features: %d\" % fit.n_features_)\n",
        "print(\"Selected Features: %s\" % fit.support_) #False means never to exclude it\n",
        "print(\"Feature Ranking: %s\" % fit.ranking_) #the more value the more will impact your model\n",
        "\n",
        "for i in range(Xtest.shape[1]):\n",
        "\tprint('Column: %d, Selected %s, Rank: %.3f' % (i, rfe.support_[i], rfe.ranking_[i]))"
      ],
      "metadata": {
        "colab": {
          "base_uri": "https://localhost:8080/"
        },
        "id": "JTDwlXsrf94V",
        "outputId": "4cc1eb3a-aea9-4a3b-daf1-cd54191bf138"
      },
      "execution_count": 5,
      "outputs": [
        {
          "output_type": "stream",
          "name": "stdout",
          "text": [
            "Num Features: 3\n",
            "Selected Features: [ True False  True  True]\n",
            "Feature Ranking: [1 2 1 1]\n",
            "Column: 0, Selected True, Rank: 1.000\n",
            "Column: 1, Selected False, Rank: 2.000\n",
            "Column: 2, Selected True, Rank: 1.000\n",
            "Column: 3, Selected True, Rank: 1.000\n"
          ]
        }
      ]
    },
    {
      "cell_type": "code",
      "source": [
        "from sklearn.feature_selection import chi2\n",
        "from sklearn.feature_selection import SelectKBest\n",
        "chiSelector = SelectKBest(chi2,k=3)\n",
        "X_kbest = chiSelector.fit(Xtest, y)\n",
        "print(X_kbest.scores_)#We choose the highest values, which will be the first 3,selects the features according to the k highest score"
      ],
      "metadata": {
        "colab": {
          "base_uri": "https://localhost:8080/"
        },
        "id": "gLrCDAvCgDNL",
        "outputId": "66cc6542-99e4-4919-9bf8-ed4faa8df705"
      },
      "execution_count": 6,
      "outputs": [
        {
          "output_type": "stream",
          "name": "stdout",
          "text": [
            "[1.18453147e+02 5.61716913e+05 9.62733118e+03 1.10589874e+02]\n"
          ]
        }
      ]
    },
    {
      "cell_type": "code",
      "source": [
        "X = df[['BuildingAge','Area','Floor']]\n",
        "y = df[['SalePrice']]\n",
        "\n",
        "from sklearn.model_selection import train_test_split\n",
        "X_train, X_test, y_train, y_test = train_test_split(X, y, test_size=0.75)"
      ],
      "metadata": {
        "id": "Cz8xdQK6i_fI"
      },
      "execution_count": 7,
      "outputs": []
    },
    {
      "cell_type": "markdown",
      "source": [
        "Baseline the linear regression to compare with"
      ],
      "metadata": {
        "id": "NybDNFSFj-Eo"
      }
    },
    {
      "cell_type": "code",
      "source": [
        "from sklearn.linear_model import LinearRegression\n",
        "from sklearn.model_selection import train_test_split\n",
        "X_train, X_test, y_train, y_test = train_test_split(X, y, test_size=0.7)\n",
        "\n",
        "LRRegressor = LinearRegression() #gives less accuracy R^2: 0.6826995509387148\n",
        "\n",
        "LRRegressor.fit(X_train, y_train)\n",
        "print (LRRegressor.predict([[1995,280,10]]))#prediction for apartment, with building age 1995, area 280, and floor 10#Model Evaluation\n",
        "from sklearn import metrics\n",
        "y_pred = LRRegressor.predict(X_test)\n",
        "#Model Evaluation\n",
        "print('Mean Absolute Error (MAE):', metrics.mean_absolute_error(y_test, y_pred))\n",
        "#print('Mean Squared Error (MSE):', metrics.mean_squared_error(y_test, y_pred))\n",
        "print('Explained Variance Score:', metrics.explained_variance_score(y_test, y_pred))\n",
        "#print('Mean Squared Log Error:', metrics.mean_squared_log_error(y_test, y_pred))\n",
        "print('Median Absolute Error:', metrics.median_absolute_error(y_test, y_pred))\n",
        "print('R^2:', metrics.r2_score(y_test, y_pred)) #Check the accuracty when changing the sample size, when getting negative value, \n",
        "#R2 is negative only when the chosen model does not follow the trend of the data. It seems that your model may be giving better performance because of over-fitting. It can be a case of over-fitting in the model. It can happen because of various reasons like small dataset and noise in the dataset.Jun 13, 2021\n"
      ],
      "metadata": {
        "colab": {
          "base_uri": "https://localhost:8080/"
        },
        "id": "RB3BH4OyjGiI",
        "outputId": "493bed73-570c-466f-928c-e1a8f2f3fccd"
      },
      "execution_count": 13,
      "outputs": [
        {
          "output_type": "stream",
          "name": "stdout",
          "text": [
            "[[57942.09109202]]\n",
            "Mean Absolute Error (MAE): 48531.13952696794\n",
            "Explained Variance Score: 0.6926044803510806\n",
            "Median Absolute Error: 43967.26967455633\n",
            "R^2: 0.6924217009555542\n"
          ]
        },
        {
          "output_type": "stream",
          "name": "stderr",
          "text": [
            "/usr/local/lib/python3.7/dist-packages/sklearn/base.py:451: UserWarning: X does not have valid feature names, but LinearRegression was fitted with feature names\n",
            "  \"X does not have valid feature names, but\"\n"
          ]
        }
      ]
    },
    {
      "cell_type": "markdown",
      "source": [
        "Bagging Methods : Random Forest"
      ],
      "metadata": {
        "id": "KQM8g6uhkSbG"
      }
    },
    {
      "cell_type": "code",
      "source": [
        "#ensemble regression\n",
        "from sklearn.ensemble import RandomForestRegressor  #bagging technique\n",
        "from sklearn import metrics\n",
        "\n",
        "from sklearn.model_selection import train_test_split\n",
        "X_train, X_test, y_train, y_test = train_test_split(X, y, test_size=0.8, random_state=0)\n",
        "RFregressor = RandomForestRegressor(n_estimators = 10)\n",
        "RFregressor.fit(X_train, y_train)\n",
        "print (RFregressor.predict([[1995,280,10]]))#prediction for apartment, with building age 1995, area 280, and floor 10#Model Evaluation\n",
        "y_pred = RFregressor.predict(X_test)\n",
        "#Model Evaluation\n",
        "print('Mean Absolute Error (MAE):', metrics.mean_absolute_error(y_test, y_pred))\n",
        "print('Mean Squared Error (MSE):', metrics.mean_squared_error(y_test, y_pred))\n",
        "print('Explained Variance Score:', metrics.explained_variance_score(y_test, y_pred))\n",
        "print('Mean Squared Log Error:', metrics.mean_squared_log_error(y_test, y_pred))\n",
        "print('Median Absolute Error:', metrics.median_absolute_error(y_test, y_pred))\n",
        "print('R^2:', metrics.r2_score(y_test, y_pred)) #Check the accuracty when changing the sample size, when getting negative value, \n",
        "#R2 is negative only when the chosen model does not follow the trend of the data. It seems that your model may be giving better performance because of over-fitting. It can be a case of over-fitting in the model. It can happen because of various reasons like small dataset and noise in the dataset.Jun 13, 2021\n"
      ],
      "metadata": {
        "colab": {
          "base_uri": "https://localhost:8080/"
        },
        "id": "r129sQ6UkFmU",
        "outputId": "d6d603f8-affb-4858-a3ea-3e16ce344e9a"
      },
      "execution_count": 14,
      "outputs": [
        {
          "output_type": "stream",
          "name": "stdout",
          "text": [
            "[73825.85714286]\n",
            "Mean Absolute Error (MAE): 38486.942620909926\n",
            "Mean Squared Error (MSE): 2543471407.612492\n",
            "Explained Variance Score: 0.7755624713541796\n",
            "Mean Squared Log Error: 0.06909065644256912\n",
            "Median Absolute Error: 30973.79999999999\n",
            "R^2: 0.7753044774211497\n"
          ]
        },
        {
          "output_type": "stream",
          "name": "stderr",
          "text": [
            "/usr/local/lib/python3.7/dist-packages/ipykernel_launcher.py:8: DataConversionWarning: A column-vector y was passed when a 1d array was expected. Please change the shape of y to (n_samples,), for example using ravel().\n",
            "  \n",
            "/usr/local/lib/python3.7/dist-packages/sklearn/base.py:451: UserWarning: X does not have valid feature names, but RandomForestRegressor was fitted with feature names\n",
            "  \"X does not have valid feature names, but\"\n"
          ]
        }
      ]
    },
    {
      "cell_type": "code",
      "source": [
        "#ensemble regression\n",
        "from sklearn.ensemble import BaggingRegressor  #bagging technique\n",
        "from sklearn import metrics\n",
        "\n",
        "from sklearn.model_selection import train_test_split\n",
        "X_train, X_test, y_train, y_test = train_test_split(X, y, test_size=0.8, random_state=0)\n",
        "baggingregressor = BaggingRegressor(n_estimators = 10) #estimators means no. trees , max depth of the tree\n",
        "baggingregressor.fit(X_train, y_train)\n",
        "print (baggingregressor.predict([[1995,280,10]]))#prediction for apartment, with building age 1995, area 280, and floor 10#Model Evaluation\n",
        "y_pred = baggingregressor.predict(X_test)\n",
        "#Model Evaluation\n",
        "print('Mean Absolute Error (MAE):', metrics.mean_absolute_error(y_test, y_pred))\n",
        "print('Mean Squared Error (MSE):', metrics.mean_squared_error(y_test, y_pred))\n",
        "print('Explained Variance Score:', metrics.explained_variance_score(y_test, y_pred))\n",
        "print('Mean Squared Log Error:', metrics.mean_squared_log_error(y_test, y_pred))\n",
        "print('Median Absolute Error:', metrics.median_absolute_error(y_test, y_pred))\n",
        "print('R^2:', metrics.r2_score(y_test, y_pred)) #Check the accuracty when changing the sample size, when getting negative value, \n",
        "#R2 is negative only when the chosen model does not follow the trend of the data. It seems that your model may be giving better performance because of over-fitting. It can be a case of over-fitting in the model. It can happen because of various reasons like small dataset and noise in the dataset.Jun 13, 2021\n"
      ],
      "metadata": {
        "colab": {
          "base_uri": "https://localhost:8080/"
        },
        "id": "9pSl5tUqkaNx",
        "outputId": "3368bfd1-6dac-4d21-bb7e-b210bbdd66ae"
      },
      "execution_count": 15,
      "outputs": [
        {
          "output_type": "stream",
          "name": "stdout",
          "text": [
            "[76435.43809524]\n",
            "Mean Absolute Error (MAE): 38566.53283075596\n",
            "Mean Squared Error (MSE): 2574998758.541712\n",
            "Explained Variance Score: 0.7727352553847979\n",
            "Mean Squared Log Error: 0.06956602767985945\n",
            "Median Absolute Error: 31090.173333333325\n",
            "R^2: 0.7725192860597034\n"
          ]
        },
        {
          "output_type": "stream",
          "name": "stderr",
          "text": [
            "/usr/local/lib/python3.7/dist-packages/sklearn/ensemble/_bagging.py:429: DataConversionWarning: A column-vector y was passed when a 1d array was expected. Please change the shape of y to (n_samples, ), for example using ravel().\n",
            "  return column_or_1d(y, warn=True)\n",
            "/usr/local/lib/python3.7/dist-packages/sklearn/base.py:451: UserWarning: X does not have valid feature names, but BaggingRegressor was fitted with feature names\n",
            "  \"X does not have valid feature names, but\"\n"
          ]
        }
      ]
    },
    {
      "cell_type": "markdown",
      "source": [
        "Boosting Methods : Gradient Boosting"
      ],
      "metadata": {
        "id": "Erb3jrF9kwyO"
      }
    },
    {
      "cell_type": "code",
      "source": [
        "#ensemble regression\n",
        "from sklearn.ensemble import GradientBoostingRegressor # boosting technique\n",
        "from sklearn import metrics\n",
        "\n",
        "from sklearn.model_selection import train_test_split\n",
        "X_train, X_test, y_train, y_test = train_test_split(X, y, test_size=0.65, random_state=0)\n",
        "GBregressor = GradientBoostingRegressor()\n",
        "GBregressor.fit(X_train, y_train)\n",
        "print (GBregressor.predict([[1995,280,10]]))#prediction for apartment, with building age 1995, area 280, and floor 10#Model Evaluation\n",
        "y_pred = GBregressor.predict(X_test)\n",
        "#Model Evaluation\n",
        "print('Mean Absolute Error (MAE):', metrics.mean_absolute_error(y_test, y_pred))\n",
        "print('Mean Squared Error (MSE):', metrics.mean_squared_error(y_test, y_pred))\n",
        "print('Explained Variance Score:', metrics.explained_variance_score(y_test, y_pred))\n",
        "print('Mean Squared Log Error:', metrics.mean_squared_log_error(y_test, y_pred))\n",
        "print('Median Absolute Error:', metrics.median_absolute_error(y_test, y_pred))\n",
        "print('R^2:', metrics.r2_score(y_test, y_pred)) #Check the accuracty when changing the sample size, when getting negative value, \n",
        "#R2 is negative only when the chosen model does not follow the trend of the data. It seems that your model may be giving better performance because of over-fitting. It can be a case of over-fitting in the model. It can happen because of various reasons like small dataset and noise in the dataset.Jun 13, 2021\n"
      ],
      "metadata": {
        "colab": {
          "base_uri": "https://localhost:8080/"
        },
        "id": "f1CIaeIBkkEG",
        "outputId": "2fca3ebf-4e06-4131-f09d-fb12a8f60552"
      },
      "execution_count": 16,
      "outputs": [
        {
          "output_type": "stream",
          "name": "stdout",
          "text": [
            "[58822.56109666]\n",
            "Mean Absolute Error (MAE): 35506.470869020224\n",
            "Mean Squared Error (MSE): 1967472719.543909\n",
            "Explained Variance Score: 0.825422239537838\n",
            "Mean Squared Log Error: 0.053889399171574114\n",
            "Median Absolute Error: 29933.126897092763\n",
            "R^2: 0.8253199316808023\n"
          ]
        },
        {
          "output_type": "stream",
          "name": "stderr",
          "text": [
            "/usr/local/lib/python3.7/dist-packages/sklearn/ensemble/_gb.py:494: DataConversionWarning: A column-vector y was passed when a 1d array was expected. Please change the shape of y to (n_samples, ), for example using ravel().\n",
            "  y = column_or_1d(y, warn=True)\n",
            "/usr/local/lib/python3.7/dist-packages/sklearn/base.py:451: UserWarning: X does not have valid feature names, but GradientBoostingRegressor was fitted with feature names\n",
            "  \"X does not have valid feature names, but\"\n"
          ]
        }
      ]
    },
    {
      "cell_type": "code",
      "source": [
        "from sklearn.ensemble import StackingRegressor #Stacking regressor\n",
        "from sklearn.model_selection import cross_val_score\n",
        "from sklearn.linear_model import LogisticRegression \n",
        "from sklearn.tree import DecisionTreeRegressor \n",
        "from sklearn.svm import LinearSVR \n",
        "\n",
        "import warnings\n",
        "warnings.filterwarnings(\"ignore\")\n",
        "\n",
        "estimators = [('Decision tree', DecisionTreeRegressor()),\n",
        "('Random Forest', RandomForestRegressor()),\n",
        "('SVR', LinearSVR(random_state=42))              \n",
        "             ]\n",
        "\n",
        "stackingreg = StackingRegressor(estimators=estimators, final_estimator=LinearRegression())\n",
        "X_train, X_test, y_train, y_test = train_test_split(X, y, random_state=42)\n",
        "stackingreg.fit(X_train, y_train).score(X_test, y_test)\n",
        "\n",
        "score = cross_val_score(stackingreg,X,y,cv = 15,scoring = 'r2')\n",
        "print(\"The accuracy score of is:\",score.mean())\n",
        "print (stackingreg.predict([[1995,280,10]]))#prediction for apartment, with building age 1995, area 280, and floor 10#Model Evaluation\n",
        "y_pred = stackingreg.predict(X_test)\n",
        "#Model Evaluation\n",
        "print('Mean Absolute Error (MAE):', metrics.mean_absolute_error(y_test, y_pred))\n",
        "print('Mean Squared Error (MSE):', metrics.mean_squared_error(y_test, y_pred))\n",
        "print('Explained Variance Score:', metrics.explained_variance_score(y_test, y_pred))\n",
        "print('Mean Squared Log Error:', metrics.mean_squared_log_error(y_test, y_pred))\n",
        "print('Median Absolute Error:', metrics.median_absolute_error(y_test, y_pred))\n",
        "print('R^2:', metrics.r2_score(y_test, y_pred)) #Check the accuracty when changing the sample size, when getting negative value, \n",
        "#R2 is negative only when the chosen model does not follow the trend of the data. It seems that your model may be giving better performance because of over-fitting. It can be a case of over-fitting in the model. It can happen because of various reasons like small dataset and noise in the dataset.Jun 13, 2021\n"
      ],
      "metadata": {
        "colab": {
          "base_uri": "https://localhost:8080/"
        },
        "id": "NugIFp-Zk11b",
        "outputId": "0ba3401d-d115-4ce5-c65e-40812c807e57"
      },
      "execution_count": 17,
      "outputs": [
        {
          "output_type": "stream",
          "name": "stdout",
          "text": [
            "The accuracy score of is: 0.724947140088991\n",
            "[77222.74164696]\n",
            "Mean Absolute Error (MAE): 37873.56840806454\n",
            "Mean Squared Error (MSE): 2259491200.659704\n",
            "Explained Variance Score: 0.7942152462115566\n",
            "Mean Squared Log Error: 0.06198201373797744\n",
            "Median Absolute Error: 32919.33856715771\n",
            "R^2: 0.7942146331408386\n"
          ]
        }
      ]
    },
    {
      "cell_type": "code",
      "source": [],
      "metadata": {
        "id": "ruHs1eKPlT9_"
      },
      "execution_count": null,
      "outputs": []
    }
  ]
}